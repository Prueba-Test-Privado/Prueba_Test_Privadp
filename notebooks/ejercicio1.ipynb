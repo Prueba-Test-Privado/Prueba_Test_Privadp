{
 "cells": [
  {
   "cell_type": "markdown",
   "metadata": {},
   "source": [
    "## Importar variables y funciones desde data/funciones_ejercicio1.py\n",
    "Puedes importar las variables principales del ejercicio desde el archivo Python para reutilizarlas en el notebook y en los tests"
   ]
  },
  {
   "cell_type": "markdown",
   "metadata": {
    "id": "CqfuRZMnU25k"
   },
   "source": [
    "Procesamiento  de Lenguaje Natural - 3011176   "
   ]
  },
  {
   "cell_type": "markdown",
   "metadata": {
    "id": "tw1jeTu9HIbj"
   },
   "source": [
    "**Objetivo**\n",
    "Realizar unos ejercicios para poner en practica la manipulacion de texto en python\n",
    "\n",
    "**Contenido**\n",
    "- Limpieza de texto\n",
    "- Normalización de texto\n",
    "- Pyspellchecker\n",
    "- Preprocesamiento\n",
    "- Librerias"
   ]
  },
  {
   "cell_type": "markdown",
   "metadata": {
    "id": "rjDd0bR6TOx_"
   },
   "source": [
    "##Consideraciones"
   ]
  },
  {
   "cell_type": "markdown",
   "metadata": {
    "id": "G4rpr0t7TQqz"
   },
   "source": [
    "Ejecute el cuaderno en orden\n",
    "NO modifique el primer bloque del ejercicio 1"
   ]
  },
  {
   "cell_type": "markdown",
   "metadata": {
    "id": "j4t9xiGZ6m-q"
   },
   "source": [
    "## Ejercicio 1"
   ]
  },
  {
   "cell_type": "markdown",
   "metadata": {
    "id": "o1MXcXvP-MIt"
   },
   "source": [
    "Teniendo encuenta esta base"
   ]
  },
  {
   "cell_type": "code",
   "execution_count": 1,
   "metadata": {},
   "outputs": [
    {
     "name": "stdout",
     "output_type": "stream",
     "text": [
      "texto1: <class 'str'> -> ESTE TEXTO EN MINUSCULAS\n",
      "texto2: <class 'str'> -> este texto en mayusculas\n",
      "nombre: <class 'str'> -> alejandro jimenez franco\n",
      "texto3: <class 'str'> -> estE texTo capitAlizado\n",
      "apples: <class 'str'> -> \n",
      "The history of apples dates back thousands of years, origin...\n",
      "formateo: <class 'str'> -> My name is {name}, I'm {age}\n",
      "palabras: <class 'tuple'> -> ('Hello', 'World', '!')\n",
      "texto4: <class 'str'> ->      programar     \n",
      "texto5: <class 'str'> -> Jhon loves programming\n",
      "texto6: <class 'str'> -> Hello_World,_today_is_a_great_day\n",
      "texto7: <class 'str'> -> El pingüino es un ave no voladora que habita principalmente ...\n",
      "texto8: <class 'str'> -> El examen era mañana y yo aún tenía mucho que estudiar. Me t...\n"
     ]
    }
   ],
   "source": [
    "# Importar variables del archivo funciones_ejercicio1.py, asegurando la ruta correcta para importación  \n",
    "import sys\n",
    "import os\n",
    "project_root = os.path.abspath(os.path.join(os.getcwd(), '..'))\n",
    "if project_root not in sys.path:\n",
    "    sys.path.insert(0, project_root)\n",
    "from data.funciones_ejercicio1 import obtener_variables_ejercicio1\n",
    "vars_ej1 = obtener_variables_ejercicio1()\n",
    "globals().update(vars_ej1)\n",
    "for k, v in vars_ej1.items():\n",
    "    print(f\"{k}: {type(v)} -> {str(v)[:60]}{'...' if len(str(v))>60 else ''}\")"
   ]
  },
  {
   "cell_type": "markdown",
   "metadata": {
    "id": "AZT3eURD7ayh"
   },
   "source": [
    "Haga uso de la siguiente [documentacion](https://www.w3schools.com/python/python_ref_string.asp) de strings en python para completar lo requerido"
   ]
  },
  {
   "cell_type": "code",
   "execution_count": null,
   "metadata": {
    "execution": {
     "iopub.execute_input": "2025-09-24T21:38:28.324103Z",
     "iopub.status.busy": "2025-09-24T21:38:28.324103Z",
     "iopub.status.idle": "2025-09-24T21:38:28.342476Z",
     "shell.execute_reply": "2025-09-24T21:38:28.341402Z",
     "shell.execute_reply.started": "2025-09-24T21:38:28.324103Z"
    },
    "id": "ny4dYvw07owG"
   },
   "outputs": [
    {
     "name": "stdout",
     "output_type": "stream",
     "text": [
      "este texto en minusculas\n",
      "___________________________________________________________________________________________________________________________________________________\n",
      "texto2 modificado: ESTE TEXTO EN MAYUSCULAS\n",
      "___________________________________________________________________________________________________________________________________________________\n",
      "nombre modificado: Alejandro jimenez franco\n",
      "___________________________________________________________________________________________________________________________________________________\n",
      "texto3 modificado: Este texto capitalizado\n",
      "___________________________________________________________________________________________________________________________________________________\n",
      "concurrencias de la palabra apples: 4\n",
      "___________________________________________________________________________________________________________________________________________________\n",
      "La palabra 'aeppel' se encuentra en la psición 159\n",
      "___________________________________________________________________________________________________________________________________________________\n",
      "mi nombre y edad es: My name is Sebastian, I'm 25 years old\n",
      "___________________________________________________________________________________________________________________________________________________\n",
      "union de palabras: Hello World !\n",
      "___________________________________________________________________________________________________________________________________________________\n",
      "texto4 modificado: programar\n",
      "___________________________________________________________________________________________________________________________________________________\n",
      "texto5 modificado: jhon loves programming\n",
      "___________________________________________________________________________________________________________________________________________________\n",
      "texto6 modificado: ['Hello', 'World,', 'today', 'is', 'a', 'great', 'day']\n",
      "___________________________________________________________________________________________________________________________________________________\n",
      "La palabra 'colonias' se encuentra en la posición 169\n",
      "___________________________________________________________________________________________________________________________________________________\n",
      "texto8 modificado: El examen era mañana y yo aun tenia mucho que estudiar. Me tome un vaso de leche con azucar, deje de mirar el cesped por la ventana de la habitacion y, aunque era dificil, me puse a estudiar como nunca antes habia hecho.\n"
     ]
    }
   ],
   "source": [
    "# variable: texto1 a minusculas \n",
    "print(\"este texto en minusculas\")\n",
    "print(\"___________________________________________________________________________________________________________________________________________________\")\n",
    "\n",
    "# variable: texto2 a mmayusculas\n",
    "texto2_test = texto2.upper()\n",
    "print(\"texto2 modificado:\",texto2_test)\n",
    "print(\"___________________________________________________________________________________________________________________________________________________\")\n",
    "\n",
    "# variable: nombre cada primer letra de cada palabra en mayuscula  \n",
    "nombre = nombre.capitalize()\n",
    "print(\"nombre modificado:\",nombre)\n",
    "print(\"___________________________________________________________________________________________________________________________________________________\")\n",
    "\n",
    "# variable: texto3 capitalizado\n",
    "texto3_t = texto3.capitalize()\n",
    "print(\"texto3 modificado:\",texto3_t)\n",
    "print(\"___________________________________________________________________________________________________________________________________________________\")\n",
    "\n",
    "# variable: apples contar las ocurrencias de la palabra 'apples'\n",
    "apples_t = apples.count(\"apples\")\n",
    "print(\"concurrencias de la palabra apples:\",apples_t)\n",
    "print(\"___________________________________________________________________________________________________________________________________________________\")\n",
    "\n",
    "# variable: apples encontrar en que lugar del texto esta palabra 'aeppel'\n",
    "aeppel_t = apples.find(\"aeppel\")\n",
    "print(\"La palabra 'aeppel' se encuentra en la psición\",aeppel_t)\n",
    "print(\"___________________________________________________________________________________________________________________________________________________\")\n",
    "\n",
    "# variable: formateo darle tu nombre y tu edad al texto\n",
    "formateo_t = formateo.format(name=\"Sebastian\", age=25)\n",
    "print(\"mi nombre y edad es:\", formateo_t,\"years old\")\n",
    "print(\"___________________________________________________________________________________________________________________________________________________\")\n",
    "\n",
    "# variable: palabras unir las palabras con un ' ' (espacio en blanco) \n",
    "palabras_t = \" \".join(palabras)\n",
    "print(\"union de palabras:\",palabras_t)\n",
    "print(\"___________________________________________________________________________________________________________________________________________________\")\n",
    "\n",
    "# variable: texto4 quitar los espacios en blanco\n",
    "texto4_t = texto4.strip()\n",
    "print(\"texto4 modificado:\", texto4_t)\n",
    "print(\"___________________________________________________________________________________________________________________________________________________\")\n",
    "\n",
    "# variable: texto5 reemplazar la palabra Jhon a tu nombre\n",
    "texto5_t = texto5.replace(\"Jhon\", \"jhon\")\n",
    "print(\"texto5 modificado:\", texto5_t)\n",
    "print(\"___________________________________________________________________________________________________________________________________________________\")\n",
    "\n",
    "# variable: texto6 separar el texto por el caracter  '_' \n",
    "texto6_t = texto6.split(\"_\")\n",
    "print(\"texto6 modificado:\",texto6_t)\n",
    "print(\"___________________________________________________________________________________________________________________________________________________\")\n",
    "\n",
    "# variable: texto7 encontrar el indice de la palabra colonias\n",
    "texto7_t = texto7.find(\"colonias\")\n",
    "print(\"La palabra 'colonias' se encuentra en la posición\",texto7_t)\n",
    "print(\"___________________________________________________________________________________________________________________________________________________\")\n",
    "\n",
    "# variable: texto8 reemplazar o quitar las tildes del texto  \n",
    "texto8_t = (texto8.replace(\"á\", \"a\")\n",
    "                    .replace(\"é\", \"e\")\n",
    "                    .replace(\"í\", \"i\")\n",
    "                    .replace(\"ó\", \"o\")\n",
    "                    .replace(\"ú\", \"u\")\n",
    "                    .replace(\"Á\", \"A\")\n",
    "                    .replace(\"É\", \"E\")\n",
    "                    .replace(\"Í\", \"I\")\n",
    "                    .replace(\"Ó\", \"O\")\n",
    "                    .replace(\"Ú\", \"U\"))\n",
    "print(\"texto8 modificado:\",texto8_t)"
   ]
  },
  {
   "cell_type": "markdown",
   "metadata": {
    "id": "PYJQ4f1AD5T0"
   },
   "source": [
    "Complete...\n",
    "La diferencia entre `index()` y `find()` es que index retorna una `excepción (valueError)`, si no encuentra el valor y find retorna `-1` cuando no encuentra dicho valor."
   ]
  },
  {
   "cell_type": "code",
   "execution_count": 3,
   "metadata": {},
   "outputs": [
    {
     "name": "stdout",
     "output_type": "stream",
     "text": [
      "⚠️ La variable texto1_test no está definida y no será exportada.\n",
      "Archivo generado: d:\\SMVIA\\Documentos\\GitHub\\Prueba_Test_Privadp\\resultados_ejercicio1.py\n"
     ]
    }
   ],
   "source": [
    "# Al finalizar el notebook, ejecuta esta celda para exportar tus resultados\n",
    "# a resultados_ejercicio1.py para ser evaluados automáticamente por los tests.\n",
    "\n",
    "import os\n",
    "output_path = os.path.abspath(os.path.join(os.path.dirname(os.getcwd()), 'resultados_ejercicio1.py'))\n",
    "\n",
    "# Lista aquí los nombres de tus variables transformadas    \n",
    "variables_exportar = [\n",
    "    'texto1_test',\n",
    "    'texto2_test',\n",
    "    'nombre',\n",
    "    'texto3_t',\n",
    "    'apples_t',\n",
    "    'aeppel_t',\n",
    "    'formateo_t',\n",
    "    'palabras_t',\n",
    "    'texto4_t',\n",
    "    'texto5_t',\n",
    "    'texto6_t',\n",
    "    'texto7_t',\n",
    "    'texto8_t',\n",
    "]\n",
    "\n",
    "with open(output_path, 'w', encoding='utf-8') as f:\n",
    "    for var in variables_exportar:\n",
    "        if var in globals():\n",
    "            valor = globals()[var]\n",
    "            f.write(f\"{var} = {repr(valor)}\\n\")\n",
    "        else:\n",
    "            print(f\"⚠️ La variable {var} no está definida y no será exportada.\")\n",
    "print(f\"Archivo generado: {output_path}\")"
   ]
  },
  {
   "cell_type": "markdown",
   "metadata": {
    "id": "GcEe6ZRHBuKI"
   },
   "source": [
    "FACULTAD DE MINAS<br>\n",
    "Sede Medellín"
   ]
  },
  {
   "cell_type": "markdown",
   "metadata": {
    "id": "wf9FvxRf46pB"
   },
   "source": [
    "SINTELWEB<br>\n",
    "Grupo de Investigación<br>\n",
    "Sistemas Inteligentes"
   ]
  }
 ],
 "metadata": {
  "colab": {
   "provenance": []
  },
  "kernelspec": {
   "display_name": "GPU_env",
   "language": "python",
   "name": "python3"
  },
  "language_info": {
   "codemirror_mode": {
    "name": "ipython",
    "version": 3
   },
   "file_extension": ".py",
   "mimetype": "text/x-python",
   "name": "python",
   "nbconvert_exporter": "python",
   "pygments_lexer": "ipython3",
   "version": "3.10.19"
  }
 },
 "nbformat": 4,
 "nbformat_minor": 4
}
